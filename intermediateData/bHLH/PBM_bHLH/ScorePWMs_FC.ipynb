version https://git-lfs.github.com/spec/v1
oid sha256:df7fde04af79cf61c9cda6cb315a5d0cc693ba4063ead39b57ed8cb423cca3e8
size 8212186
